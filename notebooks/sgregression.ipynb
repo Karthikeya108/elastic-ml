{
 "metadata": {
  "name": "",
  "signature": "sha256:50f4a9774b6579727256a58c117c2005859bbbeceb5a8240f5ed12a2a0eba652"
 },
 "nbformat": 3,
 "nbformat_minor": 0,
 "worksheets": [
  {
   "cells": [
    {
     "cell_type": "code",
     "collapsed": false,
     "input": [
      "import sys\n",
      "sys.path.append('/home/karthikeya/svn/repo/lib/pysgpp')\n",
      "from matplotlib.pylab import *\n",
      "from tools import *\n",
      "from pysgpp import *\n",
      "from math import *\n",
      "import random\n",
      "from optparse import OptionParser\n",
      "from array import array\n",
      "\n",
      "import numpy as np\n",
      "\n",
      "#Required for 'visualizeResult' method\n",
      "import matplotlib.pyplot as plt\n",
      "from mpl_toolkits.mplot3d import Axes3D\n",
      "\n",
      "from pylab import hist, show\n",
      "\n",
      "import scipy.sparse.linalg as la\n",
      "\n",
      "from painlesscg import cg_new"
     ],
     "language": "python",
     "metadata": {},
     "outputs": [],
     "prompt_number": 33
    },
    {
     "cell_type": "code",
     "collapsed": false,
     "input": [
      "def openFile(filename):\n",
      "    if \"arff\" in filename:\n",
      "        return readData(filename)\n",
      "    else:\n",
      "        return readDataTrivial(filename)"
     ],
     "language": "python",
     "metadata": {},
     "outputs": [],
     "prompt_number": 34
    },
    {
     "cell_type": "code",
     "collapsed": false,
     "input": [
      "data = openFile('../2DOption/XNorm_Y.txt')\n",
      "dim = data[\"data\"].getNcols()\n",
      "numData = data[\"data\"].getNrows()"
     ],
     "language": "python",
     "metadata": {},
     "outputs": [],
     "prompt_number": 35
    },
    {
     "cell_type": "code",
     "collapsed": false,
     "input": [
      "training = data[\"data\"]\n",
      "\n",
      "label_vector = data[\"classes\"]"
     ],
     "language": "python",
     "metadata": {},
     "outputs": [],
     "prompt_number": 36
    },
    {
     "cell_type": "code",
     "collapsed": false,
     "input": [
      "level = 2\n",
      "\n",
      "grid = Grid.createLinearGrid(dim)\n",
      "generator = grid.createGridGenerator()\n",
      "generator.regular(level)"
     ],
     "language": "python",
     "metadata": {},
     "outputs": [],
     "prompt_number": 37
    },
    {
     "cell_type": "code",
     "collapsed": false,
     "input": [
      "alpha = DataVector(grid.getSize())\n",
      "alpha.setAll(1.0)\n",
      "\n",
      "grid_size = grid.getStorage().size()\n",
      "\n",
      "regstr = 'laplace'\n",
      "\n",
      "if regstr == 'identity':\n",
      "    opL = createOperationIdentity(grid)\n",
      "elif regstr == 'laplace':\n",
      "    opL = createOperationLaplace(grid)"
     ],
     "language": "python",
     "metadata": {},
     "outputs": [],
     "prompt_number": 38
    },
    {
     "cell_type": "code",
     "collapsed": false,
     "input": [
      "print training.getSize ()"
     ],
     "language": "python",
     "metadata": {},
     "outputs": [
      {
       "output_type": "stream",
       "stream": "stdout",
       "text": [
        "2000\n"
       ]
      }
     ],
     "prompt_number": 39
    },
    {
     "cell_type": "code",
     "collapsed": false,
     "input": [
      "design_matrix = createOperationMultipleEval(grid, training)"
     ],
     "language": "python",
     "metadata": {},
     "outputs": [],
     "prompt_number": 40
    },
    {
     "cell_type": "code",
     "collapsed": false,
     "input": [
      "b = DataVector(grid_size)\n",
      "design_matrix.multTranspose(label_vector, b)"
     ],
     "language": "python",
     "metadata": {},
     "outputs": [],
     "prompt_number": 41
    },
    {
     "cell_type": "code",
     "collapsed": false,
     "input": [
      "regparam = 0.01\n",
      "print b"
     ],
     "language": "python",
     "metadata": {},
     "outputs": [
      {
       "output_type": "stream",
       "stream": "stdout",
       "text": [
        "[33.1297, 4.90961, 13.0292, 5.93647, 12.6788]\n"
       ]
      }
     ],
     "prompt_number": 42
    },
    {
     "cell_type": "code",
     "collapsed": false,
     "input": [
      " #Form the LinearOperator for BBT\n",
      "def matvec(v, design_matrix, regparam, regstr):\n",
      "    M = training.getNrows();\n",
      "    temp = DataVector(M)\n",
      "    v = DataVector(v)\n",
      "    result = DataVector(grid_size)\n",
      "    design_matrix.mult(v, temp)\n",
      "    design_matrix.multTranspose(temp, result)\n",
      "\n",
      "    if regstr == 'identity':\n",
      "        result.axpy(M*regparam, v)\n",
      "    elif regstr == 'laplace':\n",
      "        tmp = DataVector(len(v))\n",
      "        opL.mult(v, tmp)\n",
      "        result.axpy(M*regparam, tmp)\n",
      "        \n",
      "    return result.array()"
     ],
     "language": "python",
     "metadata": {},
     "outputs": [],
     "prompt_number": 43
    },
    {
     "cell_type": "code",
     "collapsed": false,
     "input": [
      "matvec_mult = lambda x: matvec(x, design_matrix, regparam, regstr)"
     ],
     "language": "python",
     "metadata": {},
     "outputs": [],
     "prompt_number": 44
    },
    {
     "cell_type": "code",
     "collapsed": false,
     "input": [
      "data_rows = training.getNrows()"
     ],
     "language": "python",
     "metadata": {},
     "outputs": [],
     "prompt_number": 45
    },
    {
     "cell_type": "code",
     "collapsed": false,
     "input": [
      "A = la.LinearOperator((grid_size, grid_size), matvec=matvec_mult, dtype='float64')"
     ],
     "language": "python",
     "metadata": {},
     "outputs": [],
     "prompt_number": 46
    },
    {
     "cell_type": "code",
     "collapsed": false,
     "input": [
      "print alpha.array()\n",
      "print b.array()"
     ],
     "language": "python",
     "metadata": {},
     "outputs": [
      {
       "output_type": "stream",
       "stream": "stdout",
       "text": [
        "[ 1.  1.  1.  1.  1.]\n",
        "[ 33.12969654   4.90961411  13.02918469   5.93647393  12.6788222 ]\n"
       ]
      }
     ],
     "prompt_number": 47
    },
    {
     "cell_type": "code",
     "collapsed": false,
     "input": [
      "alpha_new, info = la.cg(A, b.array(), alpha.array())\n",
      "print \"CG Info: \",info\n",
      "print alpha_new"
     ],
     "language": "python",
     "metadata": {},
     "outputs": [
      {
       "output_type": "stream",
       "stream": "stdout",
       "text": [
        "CG Info:  0\n",
        "[ 0.08037993 -0.03238937  0.10659947 -0.03015169  0.10920547]\n"
       ]
      }
     ],
     "prompt_number": 16
    },
    {
     "cell_type": "code",
     "collapsed": false,
     "input": [
      "m = Matrix(grid, training, 0.01, 'laplace', 0.1)\n",
      "cg_new(b, alpha, 5, 0.01, m.ApplyMatrix, False)\n",
      "print alpha"
     ],
     "language": "python",
     "metadata": {},
     "outputs": [
      {
       "output_type": "stream",
       "stream": "stdout",
       "text": [
        "Starting Conjugated Gradients\n",
        "Starting norm of residuum: 1487.44\n",
        "Target norm:               0.148744\n",
        "delta: 195.971\n",
        "delta: 4.05068\n",
        "delta: 0.696614\n",
        "delta: 1.55493e-06\n",
        "Number of iterations: 4 (max. 5)\n",
        "Final norm of residuum: 1.55493e-06\n",
        "[0.0803786, -0.0323835, 0.106614, -0.0301546, 0.109193]\n"
       ]
      }
     ],
     "prompt_number": 48
    },
    {
     "cell_type": "code",
     "collapsed": false,
     "input": [],
     "language": "python",
     "metadata": {},
     "outputs": []
    }
   ],
   "metadata": {}
  }
 ]
}